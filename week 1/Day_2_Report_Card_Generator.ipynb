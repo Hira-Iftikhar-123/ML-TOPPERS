{
  "nbformat": 4,
  "nbformat_minor": 0,
  "metadata": {
    "colab": {
      "provenance": []
    },
    "kernelspec": {
      "name": "python3",
      "display_name": "Python 3"
    },
    "language_info": {
      "name": "python"
    }
  },
  "cells": [
    {
      "cell_type": "code",
      "execution_count": 2,
      "metadata": {
        "colab": {
          "base_uri": "https://localhost:8080/"
        },
        "id": "UtYjkBQADdWc",
        "outputId": "1f4e1cb5-3939-4368-c721-76918a9c08ae"
      },
      "outputs": [
        {
          "output_type": "stream",
          "name": "stdout",
          "text": [
            "Enter student's name: Ali\n",
            "Enter age: 20\n",
            "Enter marks for Math: 90\n",
            "Enter marks for English: 83\n",
            "Enter marks for Urdu: 95\n",
            "Add 5 bonus marks to all subjects? (yes/no): yes\n",
            "Report saved successfully!\n",
            "Report Card: \n",
            "Student Name: Ali\n",
            "Age: 20\n",
            "Math: 95\n",
            "English: 88\n",
            "Urdu: 100\n",
            "Average:  94.33\n",
            "Grade: A\n",
            "\n"
          ]
        }
      ],
      "source": [
        "class Student:\n",
        "  def __init__(self, name, age):\n",
        "    self.name = name\n",
        "    self.age = age\n",
        "    self.grades = {}\n",
        "\n",
        "  def add_grade(self, subject, marks):\n",
        "    self.grades[subject] = marks\n",
        "\n",
        "  def calculate_average(self):\n",
        "    if not self.grades:\n",
        "      return 0\n",
        "    return sum(self.grades.values()) / len(self.grades)\n",
        "\n",
        "  def assign_grade(self):\n",
        "    average = self.calculate_average()\n",
        "\n",
        "    if average >= 80:\n",
        "      return 'A'\n",
        "    elif average >= 70:\n",
        "      return 'B'\n",
        "    elif average >= 40:\n",
        "      return 'C'\n",
        "    else:\n",
        "      return 'F'\n",
        "\n",
        "  def apply_bonus(self,lambda_func):\n",
        "    for subject in self.grades:\n",
        "      self.grades[subject] = min(100, lambda_func(self.grades[subject]))\n",
        "\n",
        "  def generate_report(self):\n",
        "    report = f'Report Card: \\nStudent Name: {self.name}\\nAge: {self.age}\\n'\n",
        "    for subject, marks in self.grades.items():\n",
        "      report += f'{subject}: {marks}\\n'\n",
        "    average = self.calculate_average()\n",
        "    grade = self.assign_grade()\n",
        "    report += f'Average: {average: .2f}\\nGrade: {grade}\\n'\n",
        "    return report\n",
        "\n",
        "  def save_to_file(self, filename):\n",
        "    with open(filename, 'w') as file:\n",
        "      file.write(self.generate_report())\n",
        "\n",
        "  def load_from_file(filename):\n",
        "    with open(filename, 'r') as f:\n",
        "      print(f.read())\n",
        "\n",
        "name = input(\"Enter student's name: \")\n",
        "age = int(input(\"Enter age: \"))\n",
        "\n",
        "student = Student(name, age)\n",
        "\n",
        "subjects = ['Math', 'English', 'Urdu']\n",
        "for subject in subjects:\n",
        "    marks = int(input(f\"Enter marks for {subject}: \"))\n",
        "    student.add_grade(subject, marks)\n",
        "\n",
        "add_bonus = input(\"Add 5 bonus marks to all subjects? (yes/no): \").strip().lower()\n",
        "if add_bonus == 'yes':\n",
        "    student.apply_bonus(lambda m: m + 5)\n",
        "\n",
        "filename = f\"{name}_report.txt\"\n",
        "student.save_to_file(filename)\n",
        "print(\"Report saved successfully!\")\n",
        "\n",
        "Student.load_from_file(filename)"
      ]
    }
  ]
}