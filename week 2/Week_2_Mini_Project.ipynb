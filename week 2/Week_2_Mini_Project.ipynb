{
  "nbformat": 4,
  "nbformat_minor": 0,
  "metadata": {
    "colab": {
      "provenance": []
    },
    "kernelspec": {
      "name": "python3",
      "display_name": "Python 3"
    },
    "language_info": {
      "name": "python"
    }
  },
  "cells": [
    {
      "cell_type": "code",
      "execution_count": 2,
      "metadata": {
        "colab": {
          "base_uri": "https://localhost:8080/"
        },
        "id": "fYn0IfPfaJ5L",
        "outputId": "7276162b-9026-468b-8e9b-eacab273bb74"
      },
      "outputs": [
        {
          "output_type": "stream",
          "name": "stdout",
          "text": [
            "Mean Python Score: 81.0\n",
            "\n",
            "First 3 Rows:\n",
            "     ID    Name Department  Age  Python_Score  ML_Score  AI_Score\n",
            "0  101  Ayesha         CS   21          85.0      90.0       NaN\n",
            "1  102     Ali         IT   22          78.0       NaN      88.0\n",
            "2  103    Sara         CS   20          92.0      95.0      94.0\n",
            "\n",
            "Name and ML_Score Columns:\n",
            "      Name  ML_Score\n",
            "0  Ayesha      90.0\n",
            "1     Ali       NaN\n",
            "2    Sara      95.0\n",
            "3    John      88.0\n",
            "4    Omer      75.0\n",
            "\n",
            "Final Cleaned DataFrame:\n",
            "     ID  Name Department  Age  Python_Score  ML_Score  AI_Score  Total_Score  \\\n",
            "2  103  Sara         CS   20          92.0      95.0      94.0        281.0   \n",
            "\n",
            "  Result  \n",
            "2   Pass  \n"
          ]
        }
      ],
      "source": [
        "import pandas as pd\n",
        "\n",
        "df = pd.read_csv('project_scores.csv')\n",
        "\n",
        "python_series = df['Python_Score']\n",
        "\n",
        "mean_python_score = python_series.mean()\n",
        "print(\"Mean Python Score:\", mean_python_score)\n",
        "\n",
        "print(\"\\nFirst 3 Rows:\\n\", df.head(3))\n",
        "\n",
        "print(\"\\nName and ML_Score Columns:\\n\", df[['Name', 'ML_Score']])\n",
        "\n",
        "df.fillna(0, inplace=True)\n",
        "\n",
        "df['Total_Score'] = df['Python_Score'] + df['ML_Score'] + df['AI_Score']\n",
        "\n",
        "df['Result'] = df['Total_Score'].apply(lambda x: 'Pass' if x >= 240 else 'Fail')\n",
        "\n",
        "filtered_df = df[(df['Department'] == 'CS') & (df['Result'] == 'Pass')]\n",
        "\n",
        "sorted_df = filtered_df.sort_values(by='Total_Score', ascending=False)\n",
        "\n",
        "sorted_df.to_csv('final_results.csv', index=False)\n",
        "\n",
        "print(\"\\nFinal Cleaned DataFrame:\\n\", sorted_df)"
      ]
    }
  ]
}