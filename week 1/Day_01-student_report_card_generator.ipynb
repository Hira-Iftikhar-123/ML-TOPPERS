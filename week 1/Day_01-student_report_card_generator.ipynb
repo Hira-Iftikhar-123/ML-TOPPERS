{
  "nbformat": 4,
  "nbformat_minor": 0,
  "metadata": {
    "colab": {
      "provenance": []
    },
    "kernelspec": {
      "name": "python3",
      "display_name": "Python 3"
    },
    "language_info": {
      "name": "python"
    }
  },
  "cells": [
    {
      "cell_type": "code",
      "source": [
        "name = input('Enter your name: ')\n",
        "age = input('Enter your age: ')\n",
        "\n",
        "subject_marks = {\n",
        "    \"english\": 90,\n",
        "    \"math\": 83,\n",
        "    \"urdu\": 95\n",
        "}\n",
        "\n",
        "add_bonus = input(\"Add 5 bonus marks to all subjects? (yes/no): \").lower()\n",
        "\n",
        "if add_bonus == 'yes':\n",
        "    bonus_lambda = lambda x: x + 5\n",
        "    subject_marks = {subject: bonus_lambda(mark) for subject, mark in subject_marks.items()}\n",
        "\n",
        "def average(marks):\n",
        "    total = sum(marks.values())\n",
        "    avg = total / len(marks)\n",
        "    return avg\n",
        "\n",
        "def assign_grade(avg):\n",
        "    if avg >= 80:\n",
        "      grade = 'A'\n",
        "    elif avg >= 60 and avg < 80:\n",
        "      grade = 'B'\n",
        "    elif avg >= 40 and avg < 59:\n",
        "      grade = 'C'\n",
        "    else:\n",
        "      grade = 'F'\n",
        "    return grade\n",
        "\n",
        "avg = round(average(subject_marks), 2)\n",
        "grade = assign_grade(avg)\n",
        "\n",
        "with open(\"report_card.txt\", \"w\") as f:\n",
        "    f.write(f\"Name: {name}\\n\")\n",
        "    f.write(f\"Age: {age}\\n\")\n",
        "    for subject, mark in subject_marks.items():\n",
        "        f.write(f\"{subject.capitalize()}: {mark}\\n\")\n",
        "    f.write(f\"Average: {avg}\\n\")\n",
        "    f.write(f\"Grade: {grade}\\n\")\n",
        "\n",
        "with open(\"report_card.txt\", \"r\") as f:\n",
        "    print(f.read())"
      ],
      "metadata": {
        "colab": {
          "base_uri": "https://localhost:8080/"
        },
        "id": "954GtGLBtEYT",
        "outputId": "98fc6b77-4a40-48d1-d0b4-225c3a34b08a"
      },
      "execution_count": 4,
      "outputs": [
        {
          "output_type": "stream",
          "name": "stdout",
          "text": [
            "Enter your name: Ali\n",
            "Enter your age: 20\n",
            "Add 5 bonus marks to all subjects? (yes/no): no\n",
            "Name: Ali\n",
            "Age: 20\n",
            "English: 90\n",
            "Math: 83\n",
            "Urdu: 95\n",
            "Average: 89.33\n",
            "Grade: A\n",
            "\n"
          ]
        }
      ]
    }
  ]
}
