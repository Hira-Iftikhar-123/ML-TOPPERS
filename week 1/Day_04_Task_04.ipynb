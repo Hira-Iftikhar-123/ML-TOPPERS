{
  "nbformat": 4,
  "nbformat_minor": 0,
  "metadata": {
    "colab": {
      "provenance": []
    },
    "kernelspec": {
      "name": "python3",
      "display_name": "Python 3"
    },
    "language_info": {
      "name": "python"
    }
  },
  "cells": [
    {
      "cell_type": "code",
      "execution_count": 1,
      "metadata": {
        "id": "QgeWO3clU-aZ"
      },
      "outputs": [],
      "source": [
        "import numpy as np\n",
        "\n",
        "sales_data = np.array([\n",
        "    [200, 220, 250, 210, 180, 190],  # Day 1\n",
        "    [230, 240, 260, 200, 195, 205],  # Day 2\n",
        "    [210, 215, 255, 220, 185, 200],  # Day 3\n",
        "    [205, 225, 270, 215, 190, 195],  # Day 4\n",
        "    [215, 230, 265, 225, 200, 210],  # Day 5\n",
        "    [225, 235, 275, 230, 205, 215],  # Day 6\n",
        "    [235, 245, 280, 240, 210, 220],  # Day 7\n",
        "    [245, 255, 290, 250, 215, 225],  # Day 8\n",
        "    [255, 265, 300, 260, 220, 230],  # Day 9\n",
        "    [265, 275, 310, 270, 225, 235]   # Day 10\n",
        "])"
      ]
    },
    {
      "cell_type": "markdown",
      "source": [
        "####Q1. Mathematical Operations"
      ],
      "metadata": {
        "id": "mHTHgLHXVXQy"
      }
    },
    {
      "cell_type": "code",
      "source": [
        "total_sales_per_product = np.sum(sales_data, axis=0)\n",
        "\n",
        "avg_sales_per_product = np.mean(sales_data, axis=0)\n",
        "\n",
        "commissioned_sales = sales_data * 1.05\n",
        "\n",
        "sqrt_sales = np.sqrt(sales_data)"
      ],
      "metadata": {
        "id": "4r5BC1LpVTd4"
      },
      "execution_count": 2,
      "outputs": []
    },
    {
      "cell_type": "markdown",
      "source": [
        "####Q2. Broadcasting Concepts"
      ],
      "metadata": {
        "id": "qws96K8ZVfF0"
      }
    },
    {
      "cell_type": "code",
      "source": [
        "bonus_array = np.array([10, 20, 15, 25, 30, 5])\n",
        "sales_with_bonus = sales_data + bonus_array\n",
        "sales_plus_50 = sales_data + 50\n"
      ],
      "metadata": {
        "id": "P1oUa48aVers"
      },
      "execution_count": null,
      "outputs": []
    },
    {
      "cell_type": "markdown",
      "source": [
        "####Q3. Statistical Analysis"
      ],
      "metadata": {
        "id": "GuYUOdQ4VpPZ"
      }
    },
    {
      "cell_type": "code",
      "source": [
        "flat = sales_data.flatten()\n",
        "\n",
        "mean_val = np.mean(flat)\n",
        "median_val = np.median(flat)\n",
        "variance_val = np.var(flat)\n",
        "std_dev_val = np.std(flat)\n",
        "\n",
        "max_val = np.max(flat)\n",
        "min_val = np.min(flat)\n",
        "range_val = max_val - min_val\n",
        "\n",
        "Q1 = np.percentile(flat, 25)\n",
        "Q3 = np.percentile(flat, 75)\n",
        "IQR = Q3 - Q1"
      ],
      "metadata": {
        "id": "X2GcLbi8VtCo"
      },
      "execution_count": 3,
      "outputs": []
    },
    {
      "cell_type": "markdown",
      "source": [
        "####Q4. Logical and Comparision Operators"
      ],
      "metadata": {
        "id": "AiuDQK8XWOjq"
      }
    },
    {
      "cell_type": "code",
      "source": [
        "greater_than_250 = sales_data[sales_data > 250]\n",
        "\n",
        "capped_sales = np.where(sales_data > 300, 300, sales_data)\n",
        "\n",
        "between_200_250_count = np.sum((sales_data >= 200) & (sales_data <= 250))\n",
        "\n",
        "below_mean_sales = sales_data[sales_data < mean_val]"
      ],
      "metadata": {
        "id": "YvMkcGSnWT3Z"
      },
      "execution_count": 4,
      "outputs": []
    },
    {
      "cell_type": "markdown",
      "source": [
        "####Q5. Searching, Sorting, and Final Summary"
      ],
      "metadata": {
        "id": "261GjBR7W08A"
      }
    },
    {
      "cell_type": "code",
      "source": [
        "sorted_day5 = np.sort(sales_data[4])\n",
        "\n",
        "day_total_sales = np.sum(sales_data, axis=1)\n",
        "day_with_max_sales = np.argmax(day_total_sales)\n",
        "\n",
        "product_means = np.mean(sales_data, axis=0)\n",
        "\n",
        "daily_means = np.mean(sales_data, axis=1)\n",
        "\n",
        "overall_avg = np.mean(flat)\n",
        "print(\"Overall average sales:\", overall_avg)"
      ],
      "metadata": {
        "colab": {
          "base_uri": "https://localhost:8080/"
        },
        "id": "IcVT8DCcWqc8",
        "outputId": "264a2dbe-ef4c-460e-cd20-75b3393e2404"
      },
      "execution_count": 8,
      "outputs": [
        {
          "output_type": "stream",
          "name": "stdout",
          "text": [
            "Overall average sales: 231.91666666666666\n"
          ]
        }
      ]
    },
    {
      "cell_type": "markdown",
      "source": [
        "####Q6. Bonus"
      ],
      "metadata": {
        "id": "4133_a6iW8D0"
      }
    },
    {
      "cell_type": "code",
      "source": [
        "def highlight_outliers(data):\n",
        "    mean = np.mean(data)\n",
        "    std = np.std(data)\n",
        "    upper = mean + 2 * std\n",
        "    lower = mean - 2 * std\n",
        "    return data[(data > upper) | (data < lower)]\n",
        "\n",
        "outliers = highlight_outliers(flat)"
      ],
      "metadata": {
        "id": "_B0uCtkVW-zO"
      },
      "execution_count": 6,
      "outputs": []
    }
  ]
}